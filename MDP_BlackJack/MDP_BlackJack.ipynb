{
 "cells": [
  {
   "cell_type": "markdown",
   "metadata": {},
   "source": [
    "# Blackjack como un proceso de decisión markoviano (MDP)\n",
    "\n",
    "En esta libreta se tratará de representar el juego del blackjack (o 21) como un proceso de decisión markoviano, es decir, encontrar una politica cada estado que se puede tener en un juego de blackjack.\n",
    "\n",
    "Pero este juego de blackjack tiene unas restricciones, y las reglas son un poco diferentes:\n",
    "\n",
    "* El mazo es infinito, esto quiere decir que la probabilidad para que salga cada carta es de 1/13\n",
    "* Se gana cuando se llega a 4 cartas, esto hace que los estados sean de 4 cartas o menos\n",
    "* El que sume 21 con sus cartas gana\n"
   ]
  },
  {
   "cell_type": "markdown",
   "metadata": {},
   "source": [
    "## Librerias\n",
    "\n",
    "Librerias que se usaran"
   ]
  },
  {
   "cell_type": "code",
   "execution_count": 1,
   "metadata": {},
   "outputs": [],
   "source": [
    "using Combinatorics"
   ]
  },
  {
   "cell_type": "markdown",
   "metadata": {},
   "source": [
    "Funciones auxiliares para generar el estado"
   ]
  },
  {
   "cell_type": "code",
   "execution_count": 2,
   "metadata": {},
   "outputs": [
    {
     "data": {
      "text/plain": [
       "generateHandDealer (generic function with 1 method)"
      ]
     },
     "execution_count": 2,
     "metadata": {},
     "output_type": "execute_result"
    }
   ],
   "source": [
    "function generateHandPlayer()\n",
    "    cards = [1,2,3,4,5,6,7,8,9,10,11]\n",
    "    hand = unique(x->sum(x), collect(combinations(cards,2)))\n",
    "    # Hand with 3 cards\n",
    "    temp1 = unique(x->sum(x), collect(combinations(cards,3)))\n",
    "    # Hand with 4 cards\n",
    "    temp2 = unique(x->sum(x), collect(combinations(cards,4)))\n",
    "\n",
    "    append!(hand,temp1)\n",
    "    hand = unique(x->sum(x), hand)\n",
    "    append!(hand,temp2)\n",
    "    hand = unique(x->sum(x), hand)\n",
    "    return hand\n",
    "end\n",
    "\n",
    "function generateHandDealer()\n",
    "    cards = [1,2,3,4,5,6,7,8,9,10,11]\n",
    "    hand = unique(x->sum(x), collect(combinations(cards,2)))\n",
    "    temp = unique(x->sum(x), collect(combinations(cards,3)))\n",
    "    append!(hand,temp)\n",
    "    hand = unique(x->sum(x), hand)\n",
    "    return hand\n",
    "end"
   ]
  },
  {
   "cell_type": "markdown",
   "metadata": {},
   "source": [
    "## Funciones\n",
    "\n",
    "Se definiran las funciones y variables que se usaran para definir un MDP"
   ]
  },
  {
   "cell_type": "code",
   "execution_count": 3,
   "metadata": {},
   "outputs": [
    {
     "data": {
      "text/plain": [
       "generate_state (generic function with 1 method)"
      ]
     },
     "execution_count": 3,
     "metadata": {},
     "output_type": "execute_result"
    }
   ],
   "source": [
    "function MDP_legal_actions()\n",
    "    return [\"take\", \"pass\"]\n",
    "end\n",
    "\n",
    "function MDP_reward(s,a,s_)\n",
    "    reward = 0\n",
    "    lenSCards = length(s[1])\n",
    "    lenS_Cards = length(s[1])\n",
    "    if a == nothing\n",
    "        if length(s[1]) == 4 || s[2] == 21 || s[2] > s[4]\n",
    "            reward = 1\n",
    "        else\n",
    "            reward = -1\n",
    "        end\n",
    "    elseif a == \"take\"\n",
    "        if lenS_Cards == lenSCards+1\n",
    "            # This means the cards that are in s are also in s' (in this case s_)\n",
    "            if s[1] == s_[1][1:lenSCards]\n",
    "                if s_[2] == 21 || lenS_Cards == 4\n",
    "                    reward = 1\n",
    "                end\n",
    "            end\n",
    "        end\n",
    "    else\n",
    "        if s_[4] == 21 || s_[2] > 21\n",
    "            reward = -1\n",
    "        end\n",
    "    end\n",
    "    return reward\n",
    "end\n",
    "\n",
    "function MDP_p(s,a,s_)\n",
    "    if a == \"pass\"\n",
    "        if s == s_\n",
    "            probability = 1\n",
    "        else\n",
    "            probability = 0\n",
    "        end\n",
    "    # a == \"take\"\n",
    "    else\n",
    "        lenSCards = length(s[1])\n",
    "        lenS_Cards = length(s_[1])\n",
    "        \n",
    "        # This means the first cards of each states aren't even the same length\n",
    "        if lenS_Cards == lenSCards + 1\n",
    "            if s[1] == s_[1][1:lenSCards]\n",
    "                probability = 1/13\n",
    "            else\n",
    "                probability =  0\n",
    "            end\n",
    "        else\n",
    "            probability = 0\n",
    "        end\n",
    "        \n",
    "    end\n",
    "    \n",
    "    return probability\n",
    "end\n",
    "\n",
    "function MDP_is_final(s)\n",
    "   if length(s[1]) == 4 s[2] >= 21 || length(s[3]) == 4 || s[4] >= 21\n",
    "        return true\n",
    "    else\n",
    "        return false\n",
    "    end\n",
    "end\n",
    "\n",
    "#=  \n",
    "Los estados son una 4-tupla donde (x, xs, y, ys)\n",
    "x: La mano que tiene el jugador\n",
    "xs: La suma de la mano del jugador\n",
    "y: La mano del dealer\n",
    "ys: La suma de la mano del dealer\n",
    "=#\n",
    "function generate_state()\n",
    "    player = generateHandPlayer()\n",
    "    dealer = generateHandDealer()\n",
    "    return [(x, sum(x), y, sum(y)) for x in player for y in dealer]\n",
    "end"
   ]
  },
  {
   "cell_type": "markdown",
   "metadata": {},
   "source": [
    "## Value iteration\n",
    "Función para calcular la política usando el método de iteración de valor (value iteration)"
   ]
  },
  {
   "cell_type": "code",
   "execution_count": 9,
   "metadata": {},
   "outputs": [
    {
     "data": {
      "text/plain": [
       "iter_value (generic function with 1 method)"
      ]
     },
     "execution_count": 9,
     "metadata": {},
     "output_type": "execute_result"
    }
   ],
   "source": [
    "function iter_value(r, states)\n",
    "    V = Dict(s => 0 for s in states)\n",
    "    V_p = copy(V)\n",
    "    \n",
    "    salir = false\n",
    "    while !salir\n",
    "        for s in keys(V)\n",
    "            if MDP_is_final(s)\n",
    "                V_p[s] = MDP_reward(s, nothing, s)\n",
    "            else\n",
    "                V_p[s] = maximum([sum([MDP_p(s,a,s_)*(MDP_reward(s,a,s_)+r*V[s_]) for s_ in states]) for a in MDP_legal_actions()])\n",
    "            end\n",
    "            \n",
    "            salir = true\n",
    "            \n",
    "            for s in keys(V)\n",
    "                if V_p[s] > V[s]\n",
    "                    salir = false\n",
    "                    V[s] = V_p[s]\n",
    "                else\n",
    "                end\n",
    "            end\n",
    "            \n",
    "            if salir\n",
    "                break\n",
    "            end\n",
    "        end\n",
    "    end\n",
    "    \n",
    "    #Regresamos la politicaaaaa\n",
    "    policy = Dict()\n",
    "    for s in keys(V)\n",
    "        temp = Dict(a => sum([MDP_p(s,a,s_)*V[s_] for s_ in states]) for a in MDP_legal_actions())\n",
    "        policy[s] = findmax(temp)[2]\n",
    "        \n",
    "    end\n",
    "    return policy\n",
    "end"
   ]
  },
  {
   "cell_type": "code",
   "execution_count": 11,
   "metadata": {
    "scrolled": false
   },
   "outputs": [
    {
     "data": {
      "text/plain": [
       "Dict{Any,Any} with 1008 entries:\n",
       "  ([9, 10, 11], 30, [1, 2], 3)          => \"take\"\n",
       "  ([9, 10, 11], 30, [6, 10, 11], 27)    => \"take\"\n",
       "  ([1, 10, 11], 22, [1, 10], 11)        => \"take\"\n",
       "  ([4, 9, 10, 11], 34, [1, 4], 5)       => \"take\"\n",
       "  ([6, 10, 11], 27, [9, 11], 20)        => \"take\"\n",
       "  ([3, 9, 10, 11], 33, [8, 10, 11], 29) => \"take\"\n",
       "  ([4, 10, 11], 25, [6, 10, 11], 27)    => \"take\"\n",
       "  ([10, 11], 21, [1, 11], 12)           => \"take\"\n",
       "  ([2, 11], 13, [7, 10, 11], 28)        => \"take\"\n",
       "  ([3, 10, 11], 24, [1, 10], 11)        => \"take\"\n",
       "  ([8, 10, 11], 29, [6, 11], 17)        => \"take\"\n",
       "  ([7, 10, 11], 28, [1, 10], 11)        => \"take\"\n",
       "  ([3, 9, 10, 11], 33, [1, 10], 11)     => \"take\"\n",
       "  ([1, 8], 9, [1, 7], 8)                => \"take\"\n",
       "  ([6, 9, 10, 11], 36, [4, 10, 11], 25) => \"take\"\n",
       "  ([6, 9, 10, 11], 36, [1, 9], 10)      => \"take\"\n",
       "  ([5, 11], 16, [5, 11], 16)            => \"take\"\n",
       "  ([3, 11], 14, [7, 10, 11], 28)        => \"take\"\n",
       "  ([9, 11], 20, [9, 10, 11], 30)        => \"take\"\n",
       "  ([1, 4], 5, [1, 3], 4)                => \"take\"\n",
       "  ([8, 9, 10, 11], 38, [1, 2], 3)       => \"take\"\n",
       "  ([8, 9, 10, 11], 38, [1, 9], 10)      => \"take\"\n",
       "  ([1, 8], 9, [6, 10, 11], 27)          => \"take\"\n",
       "  ([1, 10], 11, [5, 11], 16)            => \"take\"\n",
       "  ([4, 10, 11], 25, [1, 4], 5)          => \"take\"\n",
       "  ⋮                                     => ⋮"
      ]
     },
     "execution_count": 11,
     "metadata": {},
     "output_type": "execute_result"
    }
   ],
   "source": [
    "states = generate_state()\n",
    "r= 0.9\n",
    "policy = iter_value(r,  states)\n"
   ]
  },
  {
   "cell_type": "code",
   "execution_count": null,
   "metadata": {},
   "outputs": [],
   "source": []
  }
 ],
 "metadata": {
  "kernelspec": {
   "display_name": "Julia 1.0.0",
   "language": "julia",
   "name": "julia-1.0"
  },
  "language_info": {
   "file_extension": ".jl",
   "mimetype": "application/julia",
   "name": "julia",
   "version": "1.0.0"
  }
 },
 "nbformat": 4,
 "nbformat_minor": 2
}
