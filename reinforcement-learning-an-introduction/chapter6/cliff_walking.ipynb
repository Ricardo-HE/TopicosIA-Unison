{
 "cells": [
  {
   "cell_type": "markdown",
   "metadata": {},
   "source": [
    "# Example 6.6: Cliff Walking\n",
    "\n",
    "Cliff walking example ([cliff_walkinf.py](https://github.com/ShangtongZhang/reinforcement-learning-an-introduction/blob/master/chapter06/cliff_walking.py)) from [Reinforcement Learning: An Introduction](https://github.com/ShangtongZhang/reinforcement-learning-an-introduction) translated to Julia 1.0\n",
    "\n",
    "\n",
    "Copyright (C)\n",
    "\n",
    "2016-2018 Shangtong Zhang(zhangshangtong.cpp@gmail.com)  \n",
    "2016 Kenta Shimada(hyperkentakun@gmail.com)"
   ]
  },
  {
   "cell_type": "markdown",
   "metadata": {},
   "source": [
    "### Libraries to use"
   ]
  },
  {
   "cell_type": "code",
   "execution_count": 3,
   "metadata": {},
   "outputs": [],
   "source": [
    "import Plots\n",
    "import Distributions\n",
    "Plots.pyplot();"
   ]
  },
  {
   "cell_type": "markdown",
   "metadata": {},
   "source": [
    "Global variables"
   ]
  },
  {
   "cell_type": "code",
   "execution_count": 4,
   "metadata": {},
   "outputs": [],
   "source": [
    "# world height\n",
    "WORLD_HEIGHT = 4\n",
    "\n",
    "# world width\n",
    "WORLD_WIDTH = 12\n",
    "\n",
    "# probability for exploration\n",
    "ε = 0.1\n",
    "\n",
    "# step size\n",
    "α = 0.5\n",
    "\n",
    "# gamma for Q-Learning and Expected Sarsa\n",
    "γ = 1\n",
    "\n",
    "# all possible actions\n",
    "ACTION_UP = 1\n",
    "ACTION_DOWN = 2\n",
    "ACTION_LEFT = 3\n",
    "ACTION_RIGHT = 4\n",
    "ACTIONS = [ACTION_UP, ACTION_DOWN, ACTION_LEFT, ACTION_RIGHT]\n",
    "\n",
    "# initial state action pair values\n",
    "START = [4, 1]\n",
    "GOAL = [4, 12];"
   ]
  },
  {
   "cell_type": "markdown",
   "metadata": {},
   "source": [
    "### step Function"
   ]
  },
  {
   "cell_type": "code",
   "execution_count": 11,
   "metadata": {},
   "outputs": [
    {
     "data": {
      "text/plain": [
       "step_ (generic function with 1 method)"
      ]
     },
     "execution_count": 11,
     "metadata": {},
     "output_type": "execute_result"
    }
   ],
   "source": [
    "function step_(state, action)\n",
    "    i, j = state\n",
    "    if action == ACTION_UP\n",
    "        next_state = [max(i - 1, 1), j]\n",
    "    elseif action == ACTION_LEFT\n",
    "        next_state = [i, max(j - 1, 1)]\n",
    "    elseif action == ACTION_RIGHT\n",
    "        next_state = [i, min(j + 1, WORLD_WIDTH )]\n",
    "    elseif action == ACTION_DOWN\n",
    "        next_state = [min(i + 1, WORLD_HEIGHT ), j]\n",
    "    else\n",
    "        @assert False\n",
    "    end\n",
    "\n",
    "    reward = -1\n",
    "    if (action == ACTION_DOWN && i == 2 && 1 <= j <= 10) || (\n",
    "        action == ACTION_RIGHT && state == START)\n",
    "        reward = -100\n",
    "        next_state = START\n",
    "    end\n",
    "\n",
    "    return next_state, reward\n",
    "end"
   ]
  },
  {
   "cell_type": "markdown",
   "metadata": {},
   "source": [
    "### choose_action function"
   ]
  },
  {
   "cell_type": "code",
   "execution_count": 13,
   "metadata": {},
   "outputs": [
    {
     "data": {
      "text/plain": [
       "choose_action (generic function with 1 method)"
      ]
     },
     "execution_count": 13,
     "metadata": {},
     "output_type": "execute_result"
    }
   ],
   "source": [
    "# choose an action based on epsilon greedy algorithm\n",
    "function choose_action(state, q_value)\n",
    "    if rand(Distributions.Binomial(1, ε)) == 1\n",
    "        action = rand(ACTIONS)\n",
    "    else\n",
    "        values_ = q_value[state[1], state[2], :]\n",
    "        action = rand([action_ for (action_, value_) in enumerate(values_) if value_ == maximum(values_)])\n",
    "    end\n",
    "    return action\n",
    "end"
   ]
  },
  {
   "cell_type": "markdown",
   "metadata": {},
   "source": [
    "### Sarsa function"
   ]
  },
  {
   "cell_type": "code",
   "execution_count": 15,
   "metadata": {},
   "outputs": [
    {
     "data": {
      "text/plain": [
       "sarsa (generic function with 3 methods)"
      ]
     },
     "execution_count": 15,
     "metadata": {},
     "output_type": "execute_result"
    }
   ],
   "source": [
    "# an episode with Sarsa\n",
    "# @q_value: values for state action pair, will be updated\n",
    "# @expected: if True, will use expected Sarsa algorithm\n",
    "# @step_size: step size for updating\n",
    "# @return: total rewards within this episode\n",
    "function sarsa(q_value, expected=false, step_size=α)\n",
    "    state = START\n",
    "    action = choose_action(state, q_value)\n",
    "    rewards = 0.0\n",
    "    while state != GOAL\n",
    "        next_state, reward = step_(state, action)\n",
    "        next_action = choose_action(next_state, q_value)\n",
    "        rewards += reward\n",
    "        if !expected\n",
    "            target = q_value[next_state[1], next_state[2], next_action]\n",
    "        else\n",
    "            # calculate the expected value of new state\n",
    "            target = 0.0\n",
    "            q_next = q_value[next_state[1], next_state[2], :]\n",
    "            best_actions = findall(q_next == maximum(q_next))\n",
    "            for action_ in ACTIONS\n",
    "                if action_ in best_actions\n",
    "                    target += ((1.0 - ε) / length(best_actions) + EPSILON / length(ACTIONS)) * q_value[next_state[1], next_state[2], action_]\n",
    "                else\n",
    "                    target += ε / len(ACTIONS) * q_value[next_state[1], next_state[2], action_]\n",
    "                end\n",
    "            end\n",
    "        end\n",
    "        target *= γ\n",
    "        q_value[state[1], state[2], action] += step_size * (\n",
    "                reward + target - q_value[state[1], state[2], action])\n",
    "        state = next_state\n",
    "        action = next_action\n",
    "    end\n",
    "    return rewards\n",
    "end"
   ]
  },
  {
   "cell_type": "markdown",
   "metadata": {},
   "source": [
    "### Q-learning function"
   ]
  },
  {
   "cell_type": "code",
   "execution_count": 22,
   "metadata": {},
   "outputs": [
    {
     "data": {
      "text/plain": [
       "q_learning (generic function with 2 methods)"
      ]
     },
     "execution_count": 22,
     "metadata": {},
     "output_type": "execute_result"
    }
   ],
   "source": [
    "# an episode with Q-Learning\n",
    "# @q_value: values for state action pair, will be updated\n",
    "# @step_size: step size for updating\n",
    "# @return: total rewards within this episode\n",
    "function q_learning(q_value, step_size=α)\n",
    "    state = START\n",
    "    rewards = 0.0\n",
    "    while state != GOAL\n",
    "        action = choose_action(state, q_value)\n",
    "        next_state, reward = step_(state, action)\n",
    "        rewards += reward\n",
    "        # Q-Learning update\n",
    "        q_value[state[1], state[2], action] += step_size * (\n",
    "                reward + γ * maximum(q_value[next_state[1], next_state[2], :]) -\n",
    "                q_value[state[1], state[2], action])\n",
    "        state = next_state\n",
    "    end\n",
    "    return rewards\n",
    "end"
   ]
  },
  {
   "cell_type": "markdown",
   "metadata": {},
   "source": [
    "### Function to print optimal policy"
   ]
  },
  {
   "cell_type": "code",
   "execution_count": 61,
   "metadata": {},
   "outputs": [
    {
     "data": {
      "text/plain": [
       "print_optimal_policy (generic function with 1 method)"
      ]
     },
     "execution_count": 61,
     "metadata": {},
     "output_type": "execute_result"
    }
   ],
   "source": [
    "function print_optimal_policy(q_value)\n",
    "    optimal_policy = []\n",
    "    for i in range(1, stop=WORLD_HEIGHT)\n",
    "        push!(optimal_policy,[])\n",
    "        for j in range(1, stop=WORLD_WIDTH)\n",
    "            if [i, j] == GOAL\n",
    "                append!(optimal_policy[end], 'G')\n",
    "                continue\n",
    "            end\n",
    "            bestAction = argmax(q_value[i, j, :])\n",
    "            if bestAction == ACTION_UP\n",
    "                append!(optimal_policy[end], 'U')\n",
    "            elseif bestAction == ACTION_DOWN\n",
    "                append!(optimal_policy[end], 'D')\n",
    "            elseif bestAction == ACTION_LEFT\n",
    "                append!(optimal_policy[end], 'L')\n",
    "            elseif bestAction == ACTION_RIGHT\n",
    "                append!(optimal_policy[end], 'R')\n",
    "            end\n",
    "        end\n",
    "    end\n",
    "    for row in optimal_policy\n",
    "        println(row)\n",
    "    end\n",
    "end"
   ]
  },
  {
   "cell_type": "markdown",
   "metadata": {},
   "source": [
    "## Figure 6.4"
   ]
  },
  {
   "cell_type": "code",
   "execution_count": 58,
   "metadata": {
    "scrolled": true
   },
   "outputs": [],
   "source": [
    "# Use multiple runs instead of a single run and a sliding window\n",
    "# With a single run I failed to present a smooth curve\n",
    "# However the optimal policy converges well with a single run\n",
    "# Sarsa converges to the safe path, while Q-Learning converges to the optimal path\n",
    "\n",
    "# episodes of each run\n",
    "episodes = 500\n",
    "\n",
    "# perform 40 independent runs\n",
    "runs = 50\n",
    "\n",
    "rewards_sarsa = zeros(episodes)\n",
    "rewards_q_learning = zeros(episodes)\n",
    "q_sarsa = zeros((WORLD_HEIGHT, WORLD_WIDTH, 4))\n",
    "q_q_learning = copy(q_sarsa)\n",
    "for r in range(1, stop=runs)\n",
    "    q_sarsa = zeros((WORLD_HEIGHT, WORLD_WIDTH, 4))\n",
    "    q_q_learning = copy(q_sarsa)\n",
    "    for i in range(1, stop=episodes)\n",
    "        # cut off the value by -100 to draw the figure more elegantly\n",
    "        # rewards_sarsa[i] += max(sarsa(q_sarsa), -100)\n",
    "        # rewards_q_learning[i] += max(q_learning(q_q_learning), -100)\n",
    "        rewards_sarsa[i] += sarsa(q_sarsa)\n",
    "        rewards_q_learning[i] += q_learning(q_q_learning)\n",
    "    end\n",
    "end\n",
    "\n",
    "# averaging over independt runs\n",
    "rewards_sarsa /= runs\n",
    "rewards_q_learning /= runs\n",
    "\n",
    "\n",
    "\n",
    "#plt.savefig('../images/figure_6_4.png')\n",
    "#plt.close()\n",
    "\n"
   ]
  },
  {
   "cell_type": "code",
   "execution_count": 59,
   "metadata": {
    "scrolled": false
   },
   "outputs": [
    {
     "data": {
      "image/png": "[encoded data removed]"
     },
     "execution_count": 59,
     "metadata": {},
     "output_type": "execute_result"
    }
   ],
   "source": [
    "# draw reward curves\n",
    "Plots.plot(rewards_sarsa, label=\"Sarsa\", fmt = :png)\n",
    "Plots.plot!(rewards_q_learning, label=\"Q-Learning\")\n",
    "Plots.xaxis!(\"Episodes\")\n",
    "Plots.yaxis!(\"Sum of rewards during episode\")\n",
    "Plots.ylims!(-100,-10)"
   ]
  },
  {
   "cell_type": "code",
   "execution_count": 62,
   "metadata": {},
   "outputs": [
    {
     "name": "stdout",
     "output_type": "stream",
     "text": [
      "Sarsa Optimal Policy:\n",
      "Any['R', 'R', 'R', 'R', 'R', 'R', 'R', 'R', 'R', 'R', 'R', 'D']\n",
      "Any['U', 'R', 'U', 'R', 'R', 'R', 'L', 'U', 'L', 'R', 'D', 'D']\n",
      "Any['R', 'D', 'D', 'R', 'R', 'D', 'R', 'R', 'R', 'R', 'R', 'D']\n",
      "Any['U', 'R', 'R', 'R', 'R', 'R', 'R', 'R', 'R', 'R', 'R', 'G']\n",
      "Q-Learning Optimal Policy:\n",
      "Any['L', 'R', 'R', 'D', 'R', 'R', 'R', 'R', 'R', 'R', 'R', 'D']\n",
      "Any['R', 'R', 'R', 'R', 'R', 'R', 'R', 'R', 'R', 'R', 'R', 'D']\n",
      "Any['R', 'R', 'R', 'R', 'R', 'R', 'D', 'R', 'D', 'R', 'D', 'D']\n",
      "Any['U', 'R', 'R', 'R', 'R', 'R', 'R', 'R', 'R', 'R', 'R', 'G']\n"
     ]
    }
   ],
   "source": [
    "# display optimal policy\n",
    "println(\"Sarsa Optimal Policy:\")\n",
    "print_optimal_policy(q_sarsa)\n",
    "println(\"Q-Learning Optimal Policy:\")\n",
    "print_optimal_policy(q_q_learning)"
   ]
  },
  {
   "cell_type": "markdown",
   "metadata": {},
   "source": [
    "## Figura 6.6"
   ]
  },
  {
   "cell_type": "code",
   "execution_count": 70,
   "metadata": {},
   "outputs": [
    {
     "ename": "LoadError",
     "evalue": "syntax: invalid iteration specification",
     "output_type": "error",
     "traceback": [
      "syntax: invalid iteration specification",
      ""
     ]
    }
   ],
   "source": [
    "step_sizes = range(0.1, stop=1.1, step=0.1)\n",
    "episodes = 1000\n",
    "runs = 10\n",
    "\n",
    "ASY_SARSA = 0\n",
    "ASY_EXPECTED_SARSA = 1\n",
    "ASY_QLEARNING = 2\n",
    "INT_SARSA = 3\n",
    "INT_EXPECTED_SARSA = 4\n",
    "INT_QLEARNING = 5\n",
    "#methods = range(1, stop=6)\n",
    "\n",
    "performace = zeros((6, length(step_sizes)))\n",
    "for run in range(1, stop=runs)\n",
    "    for ind, step_size in list(zip(range(1, stop=length(step_sizes)), step_sizes))\n",
    "        q_sarsa = zeros((WORLD_HEIGHT, WORLD_WIDTH, 4))\n",
    "        q_expected_sarsa = copy(q_sarsa)\n",
    "        q_q_learning = copy(q_sarsa)\n",
    "        for ep in range(episodes)\n",
    "            sarsa_reward = sarsa(q_sarsa, expected=False, step_size=step_size)\n",
    "            expected_sarsa_reward = sarsa(q_expected_sarsa, expected=True, step_size=step_size)\n",
    "            q_learning_reward = q_learning(q_q_learning, step_size=step_size)\n",
    "            performace[ASY_SARSA, ind] += sarsa_reward\n",
    "            performace[ASY_EXPECTED_SARSA, ind] += expected_sarsa_reward\n",
    "            performace[ASY_QLEARNING, ind] += q_learning_reward\n",
    "\n",
    "            if ep < 100\n",
    "                performace[INT_SARSA, ind] += sarsa_reward\n",
    "                performace[INT_EXPECTED_SARSA, ind] += expected_sarsa_reward\n",
    "                performace[INT_QLEARNING, ind] += q_learning_reward\n",
    "            end\n",
    "        end\n",
    "    end\n",
    "end\n",
    "\n",
    "#performace[:3, :] /= episodes * runs\n",
    "#performace[3:, :] /= 100 * runs\n",
    "#labels = [\"Asymptotic Sarsa\", \"Asymptotic Expected Sarsa\", \"Asymptotic Q-Learning\",\n",
    "#          \"Interim Sarsa\", \"Interim Expected Sarsa\", \"Interim Q-Learning\"]\n",
    "\n",
    "#for method, label in zip(methods, labels):\n",
    "#    plt.plot(step_sizes, performace[method, :], label=label)\n",
    "#Plots.xaxis!('alpha')\n",
    "#Plots.yxis!('reward per episode')\n",
    "#plt.legend()\n",
    "\n",
    "#plt.savefig('../images/figure_6_6.png')\n",
    "#plt.close()"
   ]
  }
 ],
 "metadata": {
  "kernelspec": {
   "display_name": "Julia 1.0.0",
   "language": "julia",
   "name": "julia-1.0"
  },
  "language_info": {
   "file_extension": ".jl",
   "mimetype": "application/julia",
   "name": "julia",
   "version": "1.0.0"
  }
 },
 "nbformat": 4,
 "nbformat_minor": 2
}
