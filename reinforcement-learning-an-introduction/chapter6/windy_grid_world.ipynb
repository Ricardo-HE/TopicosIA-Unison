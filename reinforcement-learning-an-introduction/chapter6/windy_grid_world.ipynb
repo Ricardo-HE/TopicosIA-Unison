{
 "cells": [
  {
   "cell_type": "markdown",
   "metadata": {},
   "source": [
    "# Example 6.5: Windy Gridworld\n",
    "\n",
    "Windy Gridworld example ([windy_grid_world.py](https://github.com/ShangtongZhang/reinforcement-learning-an-introduction/blob/master/chapter06/windy_grid_world.py)) from [Reinforcement Learning: An Introduction](https://github.com/ShangtongZhang/reinforcement-learning-an-introduction) translated to Julia 1.0\n",
    "\n",
    "\n",
    "Copyright (C)\n",
    "\n",
    "2016-2018 Shangtong Zhang(zhangshangtong.cpp@gmail.com)\n",
    "\n",
    "2016 Kenta Shimada(hyperkentakun@gmail.com)"
   ]
  },
  {
   "cell_type": "markdown",
   "metadata": {},
   "source": [
    "### Copyright"
   ]
  },
  {
   "cell_type": "code",
   "execution_count": null,
   "metadata": {},
   "outputs": [],
   "source": [
    "#######################################################################\n",
    "# Copyright (C)                                                       #\n",
    "# 2016-2018 Shangtong Zhang(zhangshangtong.cpp@gmail.com)             #\n",
    "# 2016 Kenta Shimada(hyperkentakun@gmail.com)                         #\n",
    "# Permission given to modify the code as long as you keep this        #\n",
    "# declaration at the top                                              #\n",
    "#######################################################################"
   ]
  },
  {
   "cell_type": "markdown",
   "metadata": {},
   "source": [
    "* `PyPlot` as a substitute for `matplotlib.pyplot`\n",
    "* `Distributions` as a substitute for `np.random.binomial`"
   ]
  },
  {
   "cell_type": "code",
   "execution_count": 62,
   "metadata": {},
   "outputs": [
    {
     "data": {
      "text/plain": [
       "Plots.PyPlotBackend()"
      ]
     },
     "execution_count": 62,
     "metadata": {},
     "output_type": "execute_result"
    }
   ],
   "source": [
    "import Plots\n",
    "using Distributions\n",
    "Plots.pyplot()"
   ]
  },
  {
   "cell_type": "markdown",
   "metadata": {},
   "source": [
    "Declaration of global variables"
   ]
  },
  {
   "cell_type": "code",
   "execution_count": 9,
   "metadata": {},
   "outputs": [],
   "source": [
    "# world height\n",
    "WORLD_HEIGHT = 7\n",
    "\n",
    "# world width\n",
    "WORLD_WIDTH = 10\n",
    "\n",
    "# wind strength for each column\n",
    "WIND = [0, 0, 0, 1, 1, 1, 2, 2, 1, 0]\n",
    "\n",
    "# possible actions\n",
    "ACTION_UP = 1\n",
    "ACTION_DOWN = 2\n",
    "ACTION_LEFT = 3\n",
    "ACTION_RIGHT = 4\n",
    "\n",
    "# probability for exploration\n",
    "ε = 0.1\n",
    "\n",
    "# Sarsa step size\n",
    "α = 0.5\n",
    "\n",
    "# reward for each step\n",
    "REWARD = -1.0\n",
    "\n",
    "START = [4, 1]\n",
    "GOAL = [4, 8]\n",
    "ACTIONS = [ACTION_UP, ACTION_DOWN, ACTION_LEFT, ACTION_RIGHT];"
   ]
  },
  {
   "cell_type": "markdown",
   "metadata": {},
   "source": [
    "Function `step`that is used to calculate the reward and next state by a given action and current state"
   ]
  },
  {
   "cell_type": "code",
   "execution_count": 26,
   "metadata": {},
   "outputs": [
    {
     "data": {
      "text/plain": [
       "step_ (generic function with 1 method)"
      ]
     },
     "execution_count": 26,
     "metadata": {},
     "output_type": "execute_result"
    }
   ],
   "source": [
    "function step_(state, action)\n",
    "    i, j = state\n",
    "    if action == ACTION_UP\n",
    "        return [max(i - 1 - WIND[j], 1), j]\n",
    "    elseif action == ACTION_DOWN\n",
    "        return [max(min(i + 1 - WIND[j], WORLD_HEIGHT), 1), j]\n",
    "    elseif action == ACTION_LEFT\n",
    "        return [max(i - WIND[j], 1), max(j - 1, 1)]\n",
    "    elseif action == ACTION_RIGHT\n",
    "        return [max(i - WIND[j], 1), min(j + 1, WORLD_WIDTH)]\n",
    "    else\n",
    "        println(\"assert falsoooo\")\n",
    "        @assert false\n",
    "    end\n",
    "end"
   ]
  },
  {
   "cell_type": "code",
   "execution_count": 29,
   "metadata": {},
   "outputs": [
    {
     "data": {
      "text/plain": [
       "episode (generic function with 1 method)"
      ]
     },
     "execution_count": 29,
     "metadata": {},
     "output_type": "execute_result"
    }
   ],
   "source": [
    "# play for an episode\n",
    "function episode(q_value)\n",
    "    # track the total time steps in this episode\n",
    "    time_ = 0\n",
    "\n",
    "    # initialize state\n",
    "    state = START\n",
    "\n",
    "    # choose an action based on epsilon-greedy algorithm\n",
    "    if rand(Binomial(1, ε)) == 1\n",
    "        action = rand(ACTIONS)\n",
    "    else\n",
    "        values_ = q_value[state[1], state[2], :]\n",
    "        action = rand([action_ for (action_, value_) in enumerate(values_) if value_ == maximum(values_)])\n",
    "    end\n",
    "\n",
    "    # keep going until get to the goal state\n",
    "    while state != GOAL\n",
    "        next_state = step_(state, action)\n",
    "        if rand(Binomial(1, ε)) == 1\n",
    "            next_action = rand(ACTIONS)\n",
    "        else\n",
    "            #println(next_state[1])\n",
    "            #println(next_state[2])\n",
    "            values_ = q_value[next_state[1], next_state[2], :]\n",
    "            next_action = rand([action_ for (action_, value_) in enumerate(values_) if value_ == maximum(values_)])\n",
    "        end\n",
    "        # Sarsa update\n",
    "        q_value[state[1], state[2], action] += \n",
    "            α * (REWARD + q_value[next_state[1], next_state[2], next_action] -\n",
    "                         q_value[state[1], state[2], action])\n",
    "        state = next_state\n",
    "        action = next_action\n",
    "        time_ += 1\n",
    "    end\n",
    "    return time_\n",
    "end"
   ]
  },
  {
   "cell_type": "markdown",
   "metadata": {},
   "source": [
    "Main function that calculates a path using Sarsa's algorithm."
   ]
  },
  {
   "cell_type": "code",
   "execution_count": 68,
   "metadata": {},
   "outputs": [],
   "source": [
    "q_value = zeros((WORLD_HEIGHT, WORLD_WIDTH, 4))\n",
    "episode_limit = 500\n",
    "\n",
    "steps = []\n",
    "ep = 0\n",
    "#episode(q_value)\n",
    "while ep < episode_limit\n",
    "    append!(steps, episode(q_value))\n",
    "    ep += 1\n",
    "end\n",
    "\n",
    "steps = accumulate(+, steps)\n",
    "#xlabel('Time steps')\n",
    "#ylabel('Episodes')\n",
    "#plt.savefig('figure_6_3.png')\n",
    "#plt.close()"
   ]
  },
  {
   "cell_type": "markdown",
   "metadata": {},
   "source": [
    "Plot of episodes "
   ]
  },
  {
   "cell_type": "code",
   "execution_count": 69,
   "metadata": {},
   "outputs": [
    {
     "data": {
      "image/png": "[encoded data removed]"
     },
     "execution_count": 69,
     "metadata": {},
     "output_type": "execute_result"
    }
   ],
   "source": [
    "Plots.plot(steps, range(1, stop = length(steps) + 1), fmt = :png)\n",
    "Plots.xaxis!(\"Time steps\")\n",
    "Plots.yaxis!(\"Episodes\")"
   ]
  },
  {
   "cell_type": "code",
   "execution_count": 100,
   "metadata": {},
   "outputs": [
    {
     "name": "stdout",
     "output_type": "stream",
     "text": [
      "Optimal policy is:\n",
      "Any['R', 'R', 'R', 'R', 'R', 'R', 'R', 'R', 'R', 'D']\n",
      "Any['R', 'R', 'D', 'R', 'R', 'R', 'U', 'D', 'L', 'D']\n",
      "Any['R', 'R', 'R', 'R', 'R', 'R', 'R', 'R', 'R', 'D']\n",
      "Any['U', 'R', 'D', 'R', 'R', 'R', 'U', 'G', 'R', 'D']\n",
      "Any['L', 'R', 'R', 'R', 'R', 'R', 'U', 'D', 'L', 'L']\n",
      "Any['R', 'R', 'R', 'R', 'R', 'U', 'U', 'D', 'L', 'L']\n",
      "Any['L', 'R', 'R', 'R', 'U', 'U', 'U', 'U', 'U', 'D']\n"
     ]
    }
   ],
   "source": [
    "# display the optimal policy\n",
    "optimal_policy = []\n",
    "for i in range(1, stop=WORLD_HEIGHT)\n",
    "    push!(optimal_policy, [])\n",
    "    for j in range(1, stop=WORLD_WIDTH)\n",
    "        if [i, j] == GOAL\n",
    "            append!(optimal_policy[end],\"G\")\n",
    "            continue\n",
    "        end\n",
    "        bestAction = argmax(q_value[i, j, :])\n",
    "        if bestAction == ACTION_UP\n",
    "            append!(optimal_policy[end], \"U\")\n",
    "        elseif bestAction == ACTION_DOWN\n",
    "            append!(optimal_policy[end], \"D\")\n",
    "        elseif bestAction == ACTION_LEFT\n",
    "            append!(optimal_policy[end], \"L\")\n",
    "        elseif bestAction == ACTION_RIGHT\n",
    "            append!(optimal_policy[end], \"R\")\n",
    "        end\n",
    "    end\n",
    "end\n",
    "println(\"Optimal policy is:\")\n",
    "for row in optimal_policy\n",
    "    println(row)\n",
    "end\n",
    "#println(\"Wind strength for each column:\\n{}\".format([str(w) for w in WIND]))"
   ]
  },
  {
   "cell_type": "code",
   "execution_count": null,
   "metadata": {},
   "outputs": [],
   "source": []
  }
 ],
 "metadata": {
  "kernelspec": {
   "display_name": "Julia 1.0.0",
   "language": "julia",
   "name": "julia-1.0"
  },
  "language_info": {
   "file_extension": ".jl",
   "mimetype": "application/julia",
   "name": "julia",
   "version": "1.0.0"
  }
 },
 "nbformat": 4,
 "nbformat_minor": 2
}
