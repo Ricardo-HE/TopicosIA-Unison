{
 "cells": [
  {
   "cell_type": "code",
   "execution_count": 1,
   "metadata": {},
   "outputs": [
    {
     "data": {
      "text/plain": [
       "takeCard (generic function with 1 method)"
      ]
     },
     "execution_count": 1,
     "metadata": {},
     "output_type": "execute_result"
    }
   ],
   "source": [
    "using Combinatorics\n",
    "\n",
    "cards = [1,2,3,4,5,6,7,8,9,10,11]\n",
    "\n",
    "handPlayer = Array{Int8}(undef, 0)\n",
    "handHouse = Array{Int}(undef,0)\n",
    "\n",
    "takeCard() = rand(1:12,1)[1]"
   ]
  },
  {
   "cell_type": "code",
   "execution_count": 10,
   "metadata": {},
   "outputs": [
    {
     "data": {
      "text/plain": [
       "MDP_r (generic function with 1 method)"
      ]
     },
     "execution_count": 10,
     "metadata": {},
     "output_type": "execute_result"
    }
   ],
   "source": [
    "MDP_states(hand) = [append!(copy(hand), i[1]) for i in collect(combinations(cards,1))]\n",
    "#MDP_state(hand) = isa(hand, Array) ? hand : error(\"$hand is not an array\")\n",
    "MDP_legal_actions() = [\"take\", \"pass\"]\n",
    "MDP_p(s,a,s_) =  a == \"take\" ? 1/13 : 0\n",
    "MDP_terminal(hand) = sum(hand) == 21  || length(hand) == 4 ? true : false\n",
    "MDP_r(s,a,s_) = sum(s_) == 21 || length(s_) == 4 ? 1 : -1"
   ]
  },
  {
   "cell_type": "code",
   "execution_count": 11,
   "metadata": {},
   "outputs": [
    {
     "data": {
      "text/plain": [
       "iter_value (generic function with 1 method)"
      ]
     },
     "execution_count": 11,
     "metadata": {},
     "output_type": "execute_result"
    }
   ],
   "source": [
    "function iter_value(hand, r)\n",
    "    V = Dict(s => 0 for s in MDP_states(hand))\n",
    "    V_p = copy(V)\n",
    "    while true\n",
    "        for s in keys(V)\n",
    "            V_p[s] = maximum([sum([MDP_p(s,a,s_)*(MDP_r(s,a,s_)+r*V[s_]) for s_ in MDP_states(hand)]) for a in MDP_legal_actions()])\n",
    "            salir = true\n",
    "            for s in keys(V)\n",
    "                if V_p[s] > V[s]\n",
    "                    salir = false\n",
    "                    V[s] = V_p[s]\n",
    "                end\n",
    "            end\n",
    "            if salir\n",
    "                break\n",
    "            end\n",
    "        end\n",
    "    end\n",
    "    #Regresamos la politicaaaaa\n",
    "    policy = Dict()\n",
    "    for s in keys(V)\n",
    "        temp = Dict(a => sum([MDP_p([1],a,s_)*V[s_] for s_ in MDP_states(handPlayer)]) for a in MDP_legal_actions())\n",
    "        policy[s] = findmax(temp)[2]\n",
    "        \n",
    "    end\n",
    "    return policy\n",
    "end"
   ]
  },
  {
   "cell_type": "code",
   "execution_count": 8,
   "metadata": {},
   "outputs": [
    {
     "data": {
      "text/plain": [
       "2-element Array{Int8,1}:\n",
       " 8\n",
       " 6"
      ]
     },
     "execution_count": 8,
     "metadata": {},
     "output_type": "execute_result"
    }
   ],
   "source": [
    "append!(handPlayer, takeCard())\n",
    "handPlayer"
   ]
  },
  {
   "cell_type": "code",
   "execution_count": 12,
   "metadata": {},
   "outputs": [
    {
     "ename": "InterruptException",
     "evalue": "InterruptException:",
     "output_type": "error",
     "traceback": [
      "InterruptException:",
      "",
      "Stacktrace:",
      " [1] _array_for at ./boot.jl:394 [inlined]",
      " [2] collect at ./array.jl:624 [inlined]",
      " [3] iterate(::Combinatorics.Combinations{Array{Int64,1}}, ::Array{Int64,1}) at /home/ricardohe97/.julia/packages/Combinatorics/Utkwu/src/combinations.jl:17",
      " [4] copyto!(::Array{Array{Int64,1},1}, ::Combinatorics.Combinations{Array{Int64,1}}) at ./abstractarray.jl:650",
      " [5] _collect at ./array.jl:563 [inlined]",
      " [6] collect(::Combinatorics.Combinations{Array{Int64,1}}) at ./array.jl:557",
      " [7] MDP_states(::Array{Int8,1}) at ./In[10]:1",
      " [8] (::getfield(Main, Symbol(\"##18#23\")){Array{Int8,1},Int64,Dict{Array{Int8,1},Int64}})(::String) at ./none:0",
      " [9] iterate at ./generator.jl:47 [inlined]",
      " [10] collect_to!(::Array{Float64,1}, ::Base.Generator{Array{String,1},getfield(Main, Symbol(\"##18#23\")){Array{Int8,1},Int64,Dict{Array{Int8,1},Int64}}}, ::Int64, ::Int64) at ./array.jl:656",
      " [11] collect_to_with_first!(::Array{Float64,1}, ::Float64, ::Base.Generator{Array{String,1},getfield(Main, Symbol(\"##18#23\")){Array{Int8,1},Int64,Dict{Array{Int8,1},Int64}}}, ::Int64) at ./array.jl:643",
      " [12] collect(::Base.Generator{Array{String,1},getfield(Main, Symbol(\"##18#23\")){Array{Int8,1},Int64,Dict{Array{Int8,1},Int64}}}) at ./array.jl:624",
      " [13] iter_value(::Array{Int8,1}, ::Int64) at ./In[11]:6",
      " [14] top-level scope at In[12]:1"
     ]
    }
   ],
   "source": [
    "iter_value(handPlayer,1)"
   ]
  }
 ],
 "metadata": {
  "kernelspec": {
   "display_name": "Julia 1.0.0",
   "language": "julia",
   "name": "julia-1.0"
  },
  "language_info": {
   "file_extension": ".jl",
   "mimetype": "application/julia",
   "name": "julia",
   "version": "1.0.0"
  }
 },
 "nbformat": 4,
 "nbformat_minor": 2
}
